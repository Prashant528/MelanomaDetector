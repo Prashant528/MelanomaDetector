{
  "nbformat": 4,
  "nbformat_minor": 0,
  "metadata": {
    "colab": {
      "name": "latest(128|81).ipynb",
      "version": "0.3.2",
      "provenance": [],
      "collapsed_sections": [],
      "include_colab_link": true
    },
    "kernelspec": {
      "name": "python3",
      "display_name": "Python 3"
    },
    "accelerator": "GPU"
  },
  "cells": [
    {
      "cell_type": "markdown",
      "metadata": {
        "id": "view-in-github",
        "colab_type": "text"
      },
      "source": [
        "<a href=\"https://colab.research.google.com/github/Prashant528/MelanomaDetector/blob/master/latest(128%7C81).ipynb\" target=\"_parent\"><img src=\"https://colab.research.google.com/assets/colab-badge.svg\" alt=\"Open In Colab\"/></a>"
      ]
    },
    {
      "cell_type": "code",
      "metadata": {
        "id": "61VBzroXlG0I",
        "colab_type": "code",
        "outputId": "21f698e0-5c1c-4638-b859-2de03455069f",
        "colab": {
          "base_uri": "https://localhost:8080/",
          "height": 129
        }
      },
      "source": [
        "from google.colab import drive\n",
        "drive.mount('/content/drive')"
      ],
      "execution_count": 1,
      "outputs": [
        {
          "output_type": "stream",
          "text": [
            "Go to this URL in a browser: https://accounts.google.com/o/oauth2/auth?client_id=947318989803-6bn6qk8qdgf4n4g3pfee6491hc0brc4i.apps.googleusercontent.com&redirect_uri=urn%3Aietf%3Awg%3Aoauth%3A2.0%3Aoob&scope=email%20https%3A%2F%2Fwww.googleapis.com%2Fauth%2Fdocs.test%20https%3A%2F%2Fwww.googleapis.com%2Fauth%2Fdrive%20https%3A%2F%2Fwww.googleapis.com%2Fauth%2Fdrive.photos.readonly%20https%3A%2F%2Fwww.googleapis.com%2Fauth%2Fpeopleapi.readonly&response_type=code\n",
            "\n",
            "Enter your authorization code:\n",
            "··········\n",
            "Mounted at /content/drive\n"
          ],
          "name": "stdout"
        }
      ]
    },
    {
      "cell_type": "code",
      "metadata": {
        "id": "4DjwDV7UlC6R",
        "colab_type": "code",
        "outputId": "65937978-5376-428e-813d-109e39e410a8",
        "colab": {
          "base_uri": "https://localhost:8080/",
          "height": 35
        }
      },
      "source": [
        "import tensorflow as tf\n",
        "import tensorflow.keras\n",
        "import numpy as np\n",
        "import matplotlib.pyplot as plt\n",
        "from tensorflow.keras.models import Sequential\n",
        "from tensorflow.keras.layers import Convolution2D\n",
        "from tensorflow.keras.layers import MaxPooling2D\n",
        "from tensorflow.keras.layers import Flatten\n",
        "from tensorflow.keras.layers import Dense\n",
        "from tensorflow.keras.preprocessing import image\n",
        "from tensorflow.keras.preprocessing.image import load_img, ImageDataGenerator\n",
        "from tensorflow.keras.utils import plot_model\n",
        "from sklearn.metrics import confusion_matrix, classification_report\n",
        "import itertools\n",
        "device_name = tf.test.gpu_device_name()\n",
        "if device_name != '/device:GPU:0':\n",
        "  raise SystemError('GPU device not found')\n",
        "print('Found GPU at: {}'.format(device_name))"
      ],
      "execution_count": 2,
      "outputs": [
        {
          "output_type": "stream",
          "text": [
            "Found GPU at: /device:GPU:0\n"
          ],
          "name": "stdout"
        }
      ]
    },
    {
      "cell_type": "code",
      "metadata": {
        "id": "CVQm2FQMmG7T",
        "colab_type": "code",
        "colab": {}
      },
      "source": [
        "img_size = 600,450\n",
        "train_batch_size = 5\n",
        "test_batch_size = 5\n",
        "train_step = 228\n",
        "test_step = 76"
      ],
      "execution_count": 0,
      "outputs": []
    },
    {
      "cell_type": "code",
      "metadata": {
        "id": "IasbuIsKmQgt",
        "colab_type": "code",
        "colab": {}
      },
      "source": [
        "train_datagen = ImageDataGenerator(\n",
        "                               zoom_range=[0.75, 1.25],\n",
        "                               brightness_range=[0.5, 1.5])\n",
        "test_datagen = ImageDataGenerator()\n",
        "validation_datagen = ImageDataGenerator()"
      ],
      "execution_count": 0,
      "outputs": []
    },
    {
      "cell_type": "code",
      "metadata": {
        "id": "Uut0HujVmQ1M",
        "colab_type": "code",
        "colab": {}
      },
      "source": [
        "print('--------------LOADING TRAINING SET----------------')\n",
        "training_set = train_datagen.flow_from_directory('/content/drive/My Drive/rgb_data/new_train',\n",
        "                                                target_size = (img_size),\n",
        "                                                batch_size = train_batch_size,\n",
        "                                                color_mode='rgb',\n",
        "                                                shuffle = True,\n",
        "                                                class_mode = 'binary')\n",
        "print('------------LOADING TEST SET---------------------')\n",
        "test_set = test_datagen.flow_from_directory('/content/drive/My Drive/rgb_data/new_test',\n",
        "                                            target_size = (img_size),\n",
        "                                            batch_size = test_batch_size,\n",
        "                                            color_mode = 'rgb',\n",
        "                                            shuffle = True,\n",
        "                                            class_mode = 'binary')\n",
        "print('------------LOADING CROSS-VALIDATION SET---------------------')\n",
        "valid_set = validation_datagen.flow_from_directory('/content/drive/My Drive/rgb_data/new_valid',\n",
        "                                            target_size = (img_size),\n",
        "                                            batch_size = 1,\n",
        "                                            color_mode = 'rgb',\n",
        "                                            shuffle = False,\n",
        "                                            class_mode = 'binary')\n",
        "\n",
        "# confirm the iterator works\n",
        "batchX, batchy = test_set.next()\n"
      ],
      "execution_count": 0,
      "outputs": []
    },
    {
      "cell_type": "code",
      "metadata": {
        "id": "r1viqUxZmZSG",
        "colab_type": "code",
        "outputId": "3b7ef92d-8534-4a41-c6eb-de92a416e88f",
        "colab": {
          "base_uri": "https://localhost:8080/",
          "height": 900
        }
      },
      "source": [
        "model = Sequential()\n",
        "model.add(Convolution2D(filters =32,\n",
        "                        kernel_size =(3,3),\n",
        "                        input_shape =(600,450,3),\n",
        "                        activation='relu'))\n",
        "model.add(MaxPooling2D(pool_size = (4,4)))\n",
        "\n",
        "model.add(Convolution2D(32,(3,3),activation='sigmoid'))\n",
        "model.add(MaxPooling2D(pool_size = (2,2)))\n",
        "\n",
        "model.add(Convolution2D(16,(3,3),activation='sigmoid'))\n",
        "model.add(MaxPooling2D(pool_size = (2,2)))\n",
        "\n",
        "model.add(Convolution2D(16,(3,3),activation='sigmoid'))\n",
        "model.add(MaxPooling2D(pool_size = (2,2)))\n",
        "\n",
        "model.add(Convolution2D(16,(3,3),activation='sigmoid'))\n",
        "model.add(MaxPooling2D(pool_size = (2,2)))\n",
        "\n",
        "model.add(Flatten())\n",
        "model.add(Dense(units=256, activation = 'sigmoid'))\n",
        "model.add(Dense(units=256, activation = 'sigmoid'))\n",
        "model.add(Dense(units=256, activation = 'sigmoid'))\n",
        "model.add(Dense(units=128, activation = 'sigmoid'))\n",
        "\n",
        "model.add(Dense(units=1, activation = 'sigmoid'))\n",
        "\n",
        "\n",
        "# sgd = tensorflow.keras.optimizers.SGD(lr=0.000001, decay=1e-6, momentum=0.9, nesterov=True)\n",
        "adam = tensorflow.keras.optimizers.Adam(lr=0.0001)\n",
        "model.compile(loss = 'binary_crossentropy',\n",
        "              optimizer = adam,\n",
        "              metrics =['accuracy'])\n",
        "model.summary()\n",
        "plot_model(model, to_file='/content/drive/My Drive/ham_data/outfiles/last(128).png', show_shapes=True)\n",
        "callbacks = [\n",
        "  # Interrupt training if `val_loss` stops improving for over 2 epochs\n",
        "  tensorflow.keras.callbacks.EarlyStopping(patience=5, monitor='loss')]"
      ],
      "execution_count": 6,
      "outputs": [
        {
          "output_type": "stream",
          "text": [
            "WARNING: Logging before flag parsing goes to stderr.\n",
            "W0817 09:06:33.950600 139992922462080 deprecation.py:506] From /usr/local/lib/python3.6/dist-packages/tensorflow/python/ops/init_ops.py:1251: calling VarianceScaling.__init__ (from tensorflow.python.ops.init_ops) with dtype is deprecated and will be removed in a future version.\n",
            "Instructions for updating:\n",
            "Call initializer instance with the dtype argument instead of passing it to the constructor\n",
            "W0817 09:06:34.213067 139992922462080 deprecation.py:323] From /usr/local/lib/python3.6/dist-packages/tensorflow/python/ops/nn_impl.py:180: add_dispatch_support.<locals>.wrapper (from tensorflow.python.ops.array_ops) is deprecated and will be removed in a future version.\n",
            "Instructions for updating:\n",
            "Use tf.where in 2.0, which has the same broadcast rule as np.where\n"
          ],
          "name": "stderr"
        },
        {
          "output_type": "stream",
          "text": [
            "Model: \"sequential\"\n",
            "_________________________________________________________________\n",
            "Layer (type)                 Output Shape              Param #   \n",
            "=================================================================\n",
            "conv2d (Conv2D)              (None, 598, 448, 32)      896       \n",
            "_________________________________________________________________\n",
            "max_pooling2d (MaxPooling2D) (None, 149, 112, 32)      0         \n",
            "_________________________________________________________________\n",
            "conv2d_1 (Conv2D)            (None, 147, 110, 32)      9248      \n",
            "_________________________________________________________________\n",
            "max_pooling2d_1 (MaxPooling2 (None, 73, 55, 32)        0         \n",
            "_________________________________________________________________\n",
            "conv2d_2 (Conv2D)            (None, 71, 53, 16)        4624      \n",
            "_________________________________________________________________\n",
            "max_pooling2d_2 (MaxPooling2 (None, 35, 26, 16)        0         \n",
            "_________________________________________________________________\n",
            "conv2d_3 (Conv2D)            (None, 33, 24, 16)        2320      \n",
            "_________________________________________________________________\n",
            "max_pooling2d_3 (MaxPooling2 (None, 16, 12, 16)        0         \n",
            "_________________________________________________________________\n",
            "conv2d_4 (Conv2D)            (None, 14, 10, 16)        2320      \n",
            "_________________________________________________________________\n",
            "max_pooling2d_4 (MaxPooling2 (None, 7, 5, 16)          0         \n",
            "_________________________________________________________________\n",
            "flatten (Flatten)            (None, 560)               0         \n",
            "_________________________________________________________________\n",
            "dense (Dense)                (None, 256)               143616    \n",
            "_________________________________________________________________\n",
            "dense_1 (Dense)              (None, 256)               65792     \n",
            "_________________________________________________________________\n",
            "dense_2 (Dense)              (None, 256)               65792     \n",
            "_________________________________________________________________\n",
            "dense_3 (Dense)              (None, 128)               32896     \n",
            "_________________________________________________________________\n",
            "dense_4 (Dense)              (None, 1)                 129       \n",
            "=================================================================\n",
            "Total params: 327,633\n",
            "Trainable params: 327,633\n",
            "Non-trainable params: 0\n",
            "_________________________________________________________________\n"
          ],
          "name": "stdout"
        }
      ]
    },
    {
      "cell_type": "code",
      "metadata": {
        "id": "nh82MUbYmZaV",
        "colab_type": "code",
        "outputId": "4ea7f691-4858-44e7-b4ff-93806c8ecdbf",
        "colab": {
          "base_uri": "https://localhost:8080/",
          "height": 1000
        }
      },
      "source": [
        "history=model.fit_generator(\n",
        "        training_set,\n",
        "        steps_per_epoch = train_step,\n",
        "        epochs = 500,\n",
        "        callbacks = callbacks,\n",
        "        validation_data = test_set,\n",
        "        validation_steps = test_step,\n",
        "        verbose=1)\n",
        "\n",
        "model.save('/content/drive/My Drive/ham_data/outfiles/last(128).h5')\n",
        "\n",
        "# Plot training & validation accuracy values\n",
        "plt.plot(history.history['acc'])\n",
        "plt.plot(history.history['val_acc'])\n",
        "plt.title('Model accuracy')\n",
        "plt.ylabel('Accuracy')\n",
        "plt.xlabel('Epoch')\n",
        "plt.legend(['Train', 'Test'], loc='upper left')\n",
        "plt.show()\n",
        "\n",
        "# Plot training & validation loss values\n",
        "plt.plot(history.history['loss'])\n",
        "plt.plot(history.history['val_loss'])\n",
        "plt.title('Model loss')\n",
        "plt.ylabel('Loss')\n",
        "plt.xlabel('Epoch')\n",
        "plt.legend(['Train', 'Test'], loc='upper left')\n",
        "plt.show()\n"
      ],
      "execution_count": 7,
      "outputs": [
        {
          "output_type": "stream",
          "text": [
            "Epoch 1/500\n",
            "228/228 [==============================] - 1011s 4s/step - loss: 0.6967 - acc: 0.5092 - val_loss: 0.6880 - val_acc: 0.5553\n",
            "Epoch 2/500\n",
            "228/228 [==============================] - 120s 525ms/step - loss: 0.6989 - acc: 0.4899 - val_loss: 0.6980 - val_acc: 0.4447\n",
            "Epoch 3/500\n",
            "228/228 [==============================] - 81s 356ms/step - loss: 0.6943 - acc: 0.5162 - val_loss: 0.6958 - val_acc: 0.4447\n",
            "Epoch 4/500\n",
            "228/228 [==============================] - 81s 356ms/step - loss: 0.6938 - acc: 0.5088 - val_loss: 0.7173 - val_acc: 0.4447\n",
            "Epoch 5/500\n",
            "228/228 [==============================] - 81s 354ms/step - loss: 0.6961 - acc: 0.5202 - val_loss: 0.7004 - val_acc: 0.4447\n",
            "Epoch 6/500\n",
            "228/228 [==============================] - 80s 352ms/step - loss: 0.6956 - acc: 0.5250 - val_loss: 0.6873 - val_acc: 0.5553\n",
            "Epoch 7/500\n",
            "228/228 [==============================] - 80s 353ms/step - loss: 0.6974 - acc: 0.4912 - val_loss: 0.6958 - val_acc: 0.4447\n",
            "Epoch 8/500\n",
            "228/228 [==============================] - 80s 351ms/step - loss: 0.6953 - acc: 0.4846 - val_loss: 0.6919 - val_acc: 0.6368\n",
            "Epoch 9/500\n",
            "228/228 [==============================] - 80s 351ms/step - loss: 0.6935 - acc: 0.5347 - val_loss: 0.6880 - val_acc: 0.5553\n",
            "Epoch 10/500\n",
            "228/228 [==============================] - 80s 349ms/step - loss: 0.6954 - acc: 0.5013 - val_loss: 0.6869 - val_acc: 0.5553\n",
            "Epoch 11/500\n",
            "228/228 [==============================] - 78s 344ms/step - loss: 0.6910 - acc: 0.5320 - val_loss: 0.6788 - val_acc: 0.6711\n",
            "Epoch 12/500\n",
            "228/228 [==============================] - 82s 360ms/step - loss: 0.6849 - acc: 0.5953 - val_loss: 0.6444 - val_acc: 0.6868\n",
            "Epoch 13/500\n",
            "228/228 [==============================] - 79s 349ms/step - loss: 0.6434 - acc: 0.6479 - val_loss: 0.6052 - val_acc: 0.6974\n",
            "Epoch 14/500\n",
            "228/228 [==============================] - 79s 344ms/step - loss: 0.6397 - acc: 0.6242 - val_loss: 0.6034 - val_acc: 0.6789\n",
            "Epoch 15/500\n",
            "228/228 [==============================] - 79s 345ms/step - loss: 0.6122 - acc: 0.6456 - val_loss: 0.5570 - val_acc: 0.7237\n",
            "Epoch 16/500\n",
            "228/228 [==============================] - 78s 343ms/step - loss: 0.6154 - acc: 0.6471 - val_loss: 0.6133 - val_acc: 0.6658\n",
            "Epoch 17/500\n",
            "228/228 [==============================] - 78s 341ms/step - loss: 0.6057 - acc: 0.6670 - val_loss: 0.5323 - val_acc: 0.7763\n",
            "Epoch 18/500\n",
            "228/228 [==============================] - 78s 341ms/step - loss: 0.5787 - acc: 0.7076 - val_loss: 0.5117 - val_acc: 0.7684\n",
            "Epoch 19/500\n",
            "228/228 [==============================] - 78s 341ms/step - loss: 0.5553 - acc: 0.7333 - val_loss: 0.6272 - val_acc: 0.6632\n",
            "Epoch 20/500\n",
            "228/228 [==============================] - 77s 339ms/step - loss: 0.5441 - acc: 0.7313 - val_loss: 0.4899 - val_acc: 0.7789\n",
            "Epoch 21/500\n",
            "228/228 [==============================] - 78s 341ms/step - loss: 0.5397 - acc: 0.7322 - val_loss: 0.4675 - val_acc: 0.7947\n",
            "Epoch 22/500\n",
            "228/228 [==============================] - 77s 337ms/step - loss: 0.5224 - acc: 0.7384 - val_loss: 0.4704 - val_acc: 0.7868\n",
            "Epoch 23/500\n",
            "228/228 [==============================] - 80s 351ms/step - loss: 0.5233 - acc: 0.7410 - val_loss: 0.5120 - val_acc: 0.7553\n",
            "Epoch 24/500\n",
            "228/228 [==============================] - 77s 338ms/step - loss: 0.5104 - acc: 0.7471 - val_loss: 0.4543 - val_acc: 0.8000\n",
            "Epoch 25/500\n",
            "228/228 [==============================] - 77s 336ms/step - loss: 0.5063 - acc: 0.7559 - val_loss: 0.4713 - val_acc: 0.8079\n",
            "Epoch 26/500\n",
            "228/228 [==============================] - 77s 338ms/step - loss: 0.5072 - acc: 0.7675 - val_loss: 0.5939 - val_acc: 0.6816\n",
            "Epoch 27/500\n",
            "228/228 [==============================] - 77s 339ms/step - loss: 0.5061 - acc: 0.7603 - val_loss: 0.4858 - val_acc: 0.7789\n",
            "Epoch 28/500\n",
            "228/228 [==============================] - 77s 338ms/step - loss: 0.4991 - acc: 0.7621 - val_loss: 0.4405 - val_acc: 0.8132\n",
            "Epoch 29/500\n",
            "228/228 [==============================] - 77s 337ms/step - loss: 0.4919 - acc: 0.7750 - val_loss: 0.4399 - val_acc: 0.8079\n",
            "Epoch 30/500\n",
            "228/228 [==============================] - 77s 336ms/step - loss: 0.4737 - acc: 0.7770 - val_loss: 0.4386 - val_acc: 0.8211\n",
            "Epoch 31/500\n",
            "228/228 [==============================] - 77s 337ms/step - loss: 0.4686 - acc: 0.7814 - val_loss: 0.4230 - val_acc: 0.8158\n",
            "Epoch 32/500\n",
            "228/228 [==============================] - 77s 337ms/step - loss: 0.5074 - acc: 0.7596 - val_loss: 0.4690 - val_acc: 0.7789\n",
            "Epoch 33/500\n",
            "228/228 [==============================] - 76s 332ms/step - loss: 0.4710 - acc: 0.7805 - val_loss: 0.4286 - val_acc: 0.8184\n",
            "Epoch 34/500\n",
            "228/228 [==============================] - 78s 341ms/step - loss: 0.4813 - acc: 0.7761 - val_loss: 0.4235 - val_acc: 0.8184\n",
            "Epoch 35/500\n",
            "228/228 [==============================] - 76s 334ms/step - loss: 0.4711 - acc: 0.7867 - val_loss: 0.4713 - val_acc: 0.7763\n",
            "Epoch 36/500\n",
            "228/228 [==============================] - 78s 344ms/step - loss: 0.4661 - acc: 0.7796 - val_loss: 0.4139 - val_acc: 0.8158\n",
            "Epoch 37/500\n",
            "228/228 [==============================] - 77s 336ms/step - loss: 0.5016 - acc: 0.7647 - val_loss: 0.4427 - val_acc: 0.8211\n",
            "Epoch 38/500\n",
            "228/228 [==============================] - 76s 336ms/step - loss: 0.4675 - acc: 0.7796 - val_loss: 0.5464 - val_acc: 0.7342\n",
            "Epoch 39/500\n",
            "228/228 [==============================] - 77s 336ms/step - loss: 0.4757 - acc: 0.7798 - val_loss: 0.4123 - val_acc: 0.8132\n",
            "Epoch 40/500\n",
            "228/228 [==============================] - 77s 337ms/step - loss: 0.4745 - acc: 0.7831 - val_loss: 0.4206 - val_acc: 0.7974\n",
            "Epoch 41/500\n",
            "228/228 [==============================] - 77s 337ms/step - loss: 0.4804 - acc: 0.7867 - val_loss: 0.4139 - val_acc: 0.8158\n"
          ],
          "name": "stdout"
        },
        {
          "output_type": "display_data",
          "data": {
            "image/png": "[encoded data removed]",
            "text/plain": [
              "<Figure size 432x288 with 1 Axes>"
            ]
          },
          "metadata": {
            "tags": []
          }
        },
        {
          "output_type": "display_data",
          "data": {
            "image/png": "[encoded data removed]",
            "text/plain": [
              "<Figure size 432x288 with 1 Axes>"
            ]
          },
          "metadata": {
            "tags": []
          }
        }
      ]
    },
    {
      "cell_type": "code",
      "metadata": {
        "id": "Sioccl7K0HCC",
        "colab_type": "code",
        "colab": {}
      },
      "source": [
        "\n",
        "predictions = np.round(model.predict_generator(valid_set, steps=431))\n",
        "print(predictions)"
      ],
      "execution_count": 0,
      "outputs": []
    },
    {
      "cell_type": "code",
      "metadata": {
        "id": "rSHf7mLn0RMT",
        "colab_type": "code",
        "colab": {}
      },
      "source": [
        "print(valid_set.classes)"
      ],
      "execution_count": 0,
      "outputs": []
    },
    {
      "cell_type": "code",
      "metadata": {
        "id": "v3ynm6Hf0S_W",
        "colab_type": "code",
        "colab": {}
      },
      "source": [
        "\n",
        "pred = []\n",
        "for i in range(381):\n",
        "  pred.append(int(predictions[i,0]))"
      ],
      "execution_count": 0,
      "outputs": []
    },
    {
      "cell_type": "code",
      "metadata": {
        "id": "bnjoYw3X0U3p",
        "colab_type": "code",
        "colab": {}
      },
      "source": [
        "predd = np.array(pred)\n",
        "print(predd)"
      ],
      "execution_count": 0,
      "outputs": []
    },
    {
      "cell_type": "code",
      "metadata": {
        "id": "c34RjIrT0Zy6",
        "colab_type": "code",
        "colab": {}
      },
      "source": [
        "# Declare a function for plotting the confusion matrix\n",
        "def plot_confusion_matrix(cm, classes, normalize=False, title='Confusion matrix', cmap=plt.cm.Blues):\n",
        "    \"\"\"\n",
        "    This function prints and plots the confusion matrix.\n",
        "    Normalization can be applied by setting `normalize=True`.\n",
        "    \"\"\"\n",
        "    if normalize:\n",
        "        cm = cm.astype('float') / cm.sum(axis=1)[:, np.newaxis]\n",
        "        print(\"Normalized confusion matrix\")\n",
        "    else:\n",
        "        print('Confusion matrix, without normalization')\n",
        "\n",
        "    print(cm)\n",
        "\n",
        "    plt.imshow(cm, interpolation='nearest', cmap=cmap)\n",
        "    plt.title(title)\n",
        "    plt.colorbar()\n",
        "    tick_marks = np.arange(len(classes))\n",
        "    plt.xticks(tick_marks, classes, rotation=45)\n",
        "    plt.yticks(tick_marks, classes)\n",
        "\n",
        "    fmt = '.2f' if normalize else 'd'\n",
        "    thresh = cm.max() / 2.\n",
        "    for i, j in itertools.product(range(cm.shape[0]), range(cm.shape[1])):\n",
        "        plt.text(j, i, format(cm[i, j], fmt),\n",
        "                 horizontalalignment=\"center\",\n",
        "                 color=\"white\" if cm[i, j] > thresh else \"black\")\n",
        "\n",
        "    plt.ylabel('True label')\n",
        "    plt.xlabel('Predicted label')\n",
        "    plt.tight_layout()\n",
        "\n",
        "cm = confusion_matrix(valid_set.classes, predd)\n",
        "\n",
        "cm_plot_labels = ['mel', 'non']\n",
        "\n",
        "plot_confusion_matrix(cm, cm_plot_labels)"
      ],
      "execution_count": 0,
      "outputs": []
    },
    {
      "cell_type": "code",
      "metadata": {
        "id": "zngsENpA0cIa",
        "colab_type": "code",
        "colab": {}
      },
      "source": [
        "#Confution Matrix and Classification Report\n",
        "print('Confusion Matrix')\n",
        "print(confusion_matrix(valid_set.classes, predd))\n",
        "print('Classification Report')\n",
        "target_names = ['melanoma', 'non-melanoma']\n",
        "print(classification_report(valid_set.classes, predd, target_names=target_names))"
      ],
      "execution_count": 0,
      "outputs": []
    }
  ]
}